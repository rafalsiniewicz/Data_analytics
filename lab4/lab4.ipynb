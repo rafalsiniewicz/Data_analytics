{
 "cells": [
  {
   "cell_type": "code",
   "execution_count": 74,
   "metadata": {},
   "outputs": [],
   "source": [
    "import sys\n",
    "import pystan\n",
    "import stan_utility\n",
    "\n",
    "import arviz as az\n",
    "import numpy as np\n",
    "import scipy.stats as stats\n",
    "\n",
    "import pandas as pd\n",
    "\n",
    "import matplotlib.pyplot as plt\n",
    "import matplotlib as mpl"
   ]
  },
  {
   "cell_type": "code",
   "execution_count": 75,
   "metadata": {},
   "outputs": [
    {
     "data": {
      "text/html": [
       "<div>\n",
       "<style scoped>\n",
       "    .dataframe tbody tr th:only-of-type {\n",
       "        vertical-align: middle;\n",
       "    }\n",
       "\n",
       "    .dataframe tbody tr th {\n",
       "        vertical-align: top;\n",
       "    }\n",
       "\n",
       "    .dataframe thead th {\n",
       "        text-align: right;\n",
       "    }\n",
       "</style>\n",
       "<table border=\"1\" class=\"dataframe\">\n",
       "  <thead>\n",
       "    <tr style=\"text-align: right;\">\n",
       "      <th></th>\n",
       "      <th>Year</th>\n",
       "      <th>Fatal accidents</th>\n",
       "      <th>Passenger deaths</th>\n",
       "      <th>Death rate</th>\n",
       "      <th>Miles flown [100 mln miles]</th>\n",
       "    </tr>\n",
       "  </thead>\n",
       "  <tbody>\n",
       "    <tr>\n",
       "      <td>0</td>\n",
       "      <td>1976</td>\n",
       "      <td>24</td>\n",
       "      <td>734</td>\n",
       "      <td>0.19</td>\n",
       "      <td>3863.0</td>\n",
       "    </tr>\n",
       "    <tr>\n",
       "      <td>1</td>\n",
       "      <td>1977</td>\n",
       "      <td>25</td>\n",
       "      <td>516</td>\n",
       "      <td>0.12</td>\n",
       "      <td>4300.0</td>\n",
       "    </tr>\n",
       "    <tr>\n",
       "      <td>2</td>\n",
       "      <td>1978</td>\n",
       "      <td>31</td>\n",
       "      <td>754</td>\n",
       "      <td>0.15</td>\n",
       "      <td>5027.0</td>\n",
       "    </tr>\n",
       "    <tr>\n",
       "      <td>3</td>\n",
       "      <td>1979</td>\n",
       "      <td>31</td>\n",
       "      <td>877</td>\n",
       "      <td>0.16</td>\n",
       "      <td>5481.0</td>\n",
       "    </tr>\n",
       "    <tr>\n",
       "      <td>4</td>\n",
       "      <td>1980</td>\n",
       "      <td>22</td>\n",
       "      <td>814</td>\n",
       "      <td>0.14</td>\n",
       "      <td>5814.0</td>\n",
       "    </tr>\n",
       "    <tr>\n",
       "      <td>5</td>\n",
       "      <td>1981</td>\n",
       "      <td>21</td>\n",
       "      <td>362</td>\n",
       "      <td>0.06</td>\n",
       "      <td>6033.0</td>\n",
       "    </tr>\n",
       "    <tr>\n",
       "      <td>6</td>\n",
       "      <td>1982</td>\n",
       "      <td>26</td>\n",
       "      <td>764</td>\n",
       "      <td>0.13</td>\n",
       "      <td>5877.0</td>\n",
       "    </tr>\n",
       "    <tr>\n",
       "      <td>7</td>\n",
       "      <td>1983</td>\n",
       "      <td>20</td>\n",
       "      <td>809</td>\n",
       "      <td>0.13</td>\n",
       "      <td>6223.0</td>\n",
       "    </tr>\n",
       "    <tr>\n",
       "      <td>8</td>\n",
       "      <td>1984</td>\n",
       "      <td>16</td>\n",
       "      <td>223</td>\n",
       "      <td>0.03</td>\n",
       "      <td>7433.0</td>\n",
       "    </tr>\n",
       "    <tr>\n",
       "      <td>9</td>\n",
       "      <td>1985</td>\n",
       "      <td>22</td>\n",
       "      <td>1066</td>\n",
       "      <td>0.15</td>\n",
       "      <td>7107.0</td>\n",
       "    </tr>\n",
       "  </tbody>\n",
       "</table>\n",
       "</div>"
      ],
      "text/plain": [
       "   Year  Fatal accidents  Passenger deaths  Death rate  \\\n",
       "0  1976               24               734        0.19   \n",
       "1  1977               25               516        0.12   \n",
       "2  1978               31               754        0.15   \n",
       "3  1979               31               877        0.16   \n",
       "4  1980               22               814        0.14   \n",
       "5  1981               21               362        0.06   \n",
       "6  1982               26               764        0.13   \n",
       "7  1983               20               809        0.13   \n",
       "8  1984               16               223        0.03   \n",
       "9  1985               22              1066        0.15   \n",
       "\n",
       "   Miles flown [100 mln miles]  \n",
       "0                       3863.0  \n",
       "1                       4300.0  \n",
       "2                       5027.0  \n",
       "3                       5481.0  \n",
       "4                       5814.0  \n",
       "5                       6033.0  \n",
       "6                       5877.0  \n",
       "7                       6223.0  \n",
       "8                       7433.0  \n",
       "9                       7107.0  "
      ]
     },
     "execution_count": 75,
     "metadata": {},
     "output_type": "execute_result"
    }
   ],
   "source": [
    "import pandas as pd \n",
    "data_air = pd.read_csv(\"data.txt\") \n",
    "\n",
    "\n",
    "## generation of vector for plotting samples under histograms\n",
    "deaths=[]\n",
    "dta_cnt=[]\n",
    "for k in data_air['Passenger deaths']:  \n",
    "    dta_cnt.append(-(1.+deaths.count(k)))\n",
    "    deaths.append(k)\n",
    "dta_cnt=np.array(dta_cnt)\n",
    "\n",
    "data_air"
   ]
  },
  {
   "cell_type": "markdown",
   "metadata": {},
   "source": [
    "## Task1. Constant rate for all years and not depending on anything\n",
    "We define model, assuming, that passengers deaths number $y_i$ has a Poisson distribution$$y_i\\sim\\mathrm{Poisson}(\\lambda)$$with a rate $\\lambda$ independent on anything."
   ]
  },
  {
   "cell_type": "markdown",
   "metadata": {},
   "source": [
    "## Prior for number of deaths\n",
    "We assume that 10 people dying in airplane crash every day, which is 10*365=3650 per year would be very improbable. For poisson distribution we have mean of $\\lambda$ and standard deviation of $\\sqrt{\\lambda}$. Approximately in order to have no more than 1% probability $\\lambda$ should fulfill$$\\lambda+3\\sqrt{\\lambda}\\approx3650$$We need to assign the prior that would have probability of smaller $\\lambda$ equal 99%."
   ]
  },
  {
   "cell_type": "code",
   "execution_count": 76,
   "metadata": {},
   "outputs": [
    {
     "name": "stdout",
     "output_type": "stream",
     "text": [
      "[3473.]\n"
     ]
    }
   ],
   "source": [
    "root_of_lam=np.polynomial.polynomial.polyroots([-3650.,3.,1.])\n",
    "lam_ub=np.round(root_of_lam[root_of_lam>0]**2)\n",
    "print(lam_ub)"
   ]
  },
  {
   "cell_type": "markdown",
   "metadata": {},
   "source": [
    "From calculations we have output $\\lambda$ = 3473"
   ]
  },
  {
   "cell_type": "markdown",
   "metadata": {},
   "source": [
    "## Prior tuning in Stan\n",
    "Using Stan algebra solver we can solve nonlinear equations. In particular it can be used for finding distribution parameters that are fulfilling the conditions we have given. We can for example find $\\sigma$ for a HalfNormal distribution."
   ]
  },
  {
   "cell_type": "code",
   "execution_count": 77,
   "metadata": {},
   "outputs": [
    {
     "name": "stdout",
     "output_type": "stream",
     "text": [
      "functions {\n",
      "  // Difference between one-sided Gaussian tail probability and target probability\n",
      "  vector tail_delta(vector y, vector theta, real[] x_r, int[] x_i) {\n",
      "    vector[1] deltas;\n",
      "    deltas[1] = 2 * (normal_cdf(theta[1], 0, exp(y[1])) - 0.5) - 0.99;\n",
      "    return deltas;\n",
      "  }\n",
      "}\n",
      "\n",
      "data {\n",
      "  vector[1] y_guess; // Initial guess of Gaussian standard deviation\n",
      "  vector[1] theta;       // Target quantile\n",
      "}\n",
      "\n",
      "transformed data {\n",
      "\n",
      "  vector[1] y;\n",
      "  real x_r[0];\n",
      "  int x_i[0];\n",
      "\n",
      "  // Find Gaussian standard deviation that ensures 99% probabilty below 15\n",
      "  y = algebra_solver(tail_delta, y_guess, theta, x_r, x_i);\n",
      "\n",
      "  print(\"Standard deviation = \", exp(y[1]));\n",
      "}\n",
      "\n",
      "generated quantities {\n",
      "  real sigma = exp(y[1]);\n",
      "}\n"
     ]
    }
   ],
   "source": [
    "with open('prior.stan', 'r') as file:\n",
    "    print(file.read())"
   ]
  },
  {
   "cell_type": "code",
   "execution_count": 78,
   "metadata": {},
   "outputs": [
    {
     "name": "stdout",
     "output_type": "stream",
     "text": [
      "Using cached StanModel\n"
     ]
    }
   ],
   "source": [
    "m_prior =stan_utility.compile_model('prior.stan')"
   ]
  },
  {
   "cell_type": "code",
   "execution_count": 79,
   "metadata": {},
   "outputs": [
    {
     "name": "stdout",
     "output_type": "stream",
     "text": [
      "1348.0\n"
     ]
    }
   ],
   "source": [
    "data=dict(y_guess=np.array([np.log(1000)]),theta=np.array(lam_ub))\n",
    "tuned2 = m_prior.sampling(data=data,\n",
    "                          seed=1052020,\n",
    "                          algorithm=\"Fixed_param\",\n",
    "                          iter=1, \n",
    "                          warmup=0,\n",
    "                          chains=1)\n",
    "sigma = np.round(tuned2.extract()['sigma'][0])\n",
    "print(sigma)"
   ]
  },
  {
   "cell_type": "markdown",
   "metadata": {},
   "source": [
    "## Half- normal distribution\n",
    "For above value of sigma=1348 we will plot half-normal distribution"
   ]
  },
  {
   "cell_type": "code",
   "execution_count": 52,
   "metadata": {},
   "outputs": [
    {
     "data": {
      "image/png": "[encoded data removed]",
      "text/plain": [
       "<Figure size 504x288 with 1 Axes>"
      ]
     },
     "metadata": {
      "needs_background": "light"
     },
     "output_type": "display_data"
    }
   ],
   "source": [
    "fig, ax2 = plt.subplots(1, 1,figsize=(7, 4))\n",
    "x2=np.linspace(0,3*sigma,1000)\n",
    "x4=np.linspace(0,lam_ub[0],1000)\n",
    "ax2.plot(x2,2*stats.norm.pdf(x2,scale=sigma),color='blue',linewidth=2)\n",
    "ax2.fill_between(x4,2*stats.norm.pdf(x4,scale=sigma),0,color='blue')\n",
    "ax2.set_yticks([])\n",
    "ax2.set_xticks([0,lam_ub[0]])\n",
    "ax2.set_title(r'$\\lambda$')\n",
    "plt.show()"
   ]
  },
  {
   "cell_type": "markdown",
   "metadata": {},
   "source": [
    "## Prior predictive distribution\n",
    "We can use stan to simulate possible outputs and parameteres based only on prior information."
   ]
  },
  {
   "cell_type": "code",
   "execution_count": 53,
   "metadata": {},
   "outputs": [
    {
     "name": "stdout",
     "output_type": "stream",
     "text": [
      "\n",
      "data {\n",
      "  int M;//number of years analyzed\n",
      "}\n",
      "\n",
      "\n",
      "generated quantities {\n",
      "  real lambda=fabs(normal_rng(0,1348));\n",
      "  int y_sim[M];\n",
      "  for (k in 1:M) {\n",
      "    y_sim[k] = poisson_rng(lambda);\n",
      "  }\n",
      "}\n",
      "\n"
     ]
    }
   ],
   "source": [
    "with open('prior_ppc.stan', 'r') as file:\n",
    "    print(file.read())"
   ]
  },
  {
   "cell_type": "code",
   "execution_count": 54,
   "metadata": {},
   "outputs": [
    {
     "name": "stdout",
     "output_type": "stream",
     "text": [
      "Using cached StanModel\n"
     ]
    }
   ],
   "source": [
    "m_prior=stan_utility.compile_model('prior_ppc.stan')"
   ]
  },
  {
   "cell_type": "code",
   "execution_count": 55,
   "metadata": {},
   "outputs": [],
   "source": [
    "R=1000\n",
    "sim_uf=m_prior.sampling(data={'M':1},\n",
    "                            algorithm=\"Fixed_param\",\n",
    "                            iter=R,\n",
    "                            warmup=0,\n",
    "                            chains=1, \n",
    "                            refresh=R,\n",
    "                            seed=29042020)"
   ]
  },
  {
   "cell_type": "code",
   "execution_count": 70,
   "metadata": {},
   "outputs": [
    {
     "data": {
      "image/png": "[encoded data removed]",
      "text/plain": [
       "<Figure size 504x576 with 2 Axes>"
      ]
     },
     "metadata": {
      "needs_background": "light"
     },
     "output_type": "display_data"
    }
   ],
   "source": [
    "params=sim_uf.extract()\n",
    "theta=params['lambda']\n",
    "y_sim=params['y_sim']\n",
    "\n",
    "\n",
    "fig, axes = plt.subplots(2, 1,figsize=(7, 8))\n",
    "ax1=axes[0]\n",
    "ax1.hist(theta,bins=20,density=True)\n",
    "x=np.linspace(0,5000,2000)\n",
    "ax1.set_xticks([0,lam_ub[0]])\n",
    "ax1.set_yticks([])\n",
    "ax1.set_title(r'$\\lambda$')\n",
    "ax1.plot(x,2*stats.norm.pdf(x,0,sigma),color='black',linestyle='--')\n",
    "arr_y_loc = 2*stats.norm.pdf(1000,0,sigma)\n",
    "ax1.annotate('HalfNormal(0,'+str(np.int(sigma))+')',xy=(1000,arr_y_loc),xytext=(200,1.5*arr_y_loc),arrowprops={'arrowstyle':'->'})\n",
    "ax2=axes[1]\n",
    "ax2.hist(y_sim.flatten(),density=True,bins=20,zorder=1)\n",
    "ax2.scatter(deaths,0.0002*dta_cnt,color='black',marker='.',zorder=2)\n",
    "ax2.set_xticks([0,3650])\n",
    "ax2.set_yticks([])\n",
    "\n",
    "ax2.set_title('No. of passengers deaths')\n",
    "plt.show()"
   ]
  },
  {
   "cell_type": "markdown",
   "metadata": {},
   "source": [
    "## Posterior inference and posterior predictive checks"
   ]
  },
  {
   "cell_type": "code",
   "execution_count": 72,
   "metadata": {},
   "outputs": [
    {
     "name": "stdout",
     "output_type": "stream",
     "text": [
      "data {\n",
      "  int M;//number of years analyzed\n",
      "  int y[M];//number of passengers deaths\n",
      "}\n",
      "parameters {\n",
      "  real<lower=0>lambda;\n",
      "}\n",
      "model {\n",
      "  lambda ~ normal(0,1348);\n",
      "  for (k in 1:M) {\n",
      "    y[k] ~ poisson(lambda);\n",
      "  }\n",
      "}\n",
      "generated quantities {\n",
      "  int y_sim[M];\n",
      "  for (k in 1:M) {\n",
      "    y_sim[k] = poisson_rng(lambda);\n",
      "  }\n",
      "}\n"
     ]
    }
   ],
   "source": [
    "with open('post.stan', 'r') as file:\n",
    "    print(file.read())"
   ]
  },
  {
   "cell_type": "code",
   "execution_count": 73,
   "metadata": {},
   "outputs": [
    {
     "name": "stderr",
     "output_type": "stream",
     "text": [
      "INFO:pystan:COMPILING THE C++ CODE FOR MODEL anon_model_c91c65bf866794d4ed9a2502f37bf8d7 NOW.\n"
     ]
    }
   ],
   "source": [
    "m_post=stan_utility.compile_model('post.stan')"
   ]
  },
  {
   "cell_type": "code",
   "execution_count": 81,
   "metadata": {},
   "outputs": [],
   "source": [
    "data = dict(M = len(data_air),\n",
    "            y = data_air['Passenger deaths'])\n",
    "fit = m_post.sampling(data=data, seed=8052020)\n",
    "\n",
    "params=fit.extract()\n",
    "lam=params['lambda']\n",
    "y_sim=params['y_sim']"
   ]
  },
  {
   "cell_type": "code",
   "execution_count": 82,
   "metadata": {},
   "outputs": [],
   "source": [
    "mean_lam = np.mean(lam)\n",
    "cinf_lam = az.hpd(lam,0.89)\n",
    "\n",
    "hpd_width=cinf_lam[1]-cinf_lam[0]"
   ]
  },
  {
   "cell_type": "code",
   "execution_count": 83,
   "metadata": {},
   "outputs": [
    {
     "name": "stdout",
     "output_type": "stream",
     "text": [
      "Mean lambda : 691.51\n",
      "89% confidence interval: [ 678.36 704.75 ]\n"
     ]
    }
   ],
   "source": [
    "print('Mean lambda : {:4.2f}'.format(mean_lam))\n",
    "print('89% confidence interval: [',*['{:4.2f}'.format(k) for k in cinf_lam],']')"
   ]
  },
  {
   "cell_type": "code",
   "execution_count": 99,
   "metadata": {},
   "outputs": [
    {
     "data": {
      "image/png": "[encoded data removed]",
      "text/plain": [
       "<Figure size 504x576 with 3 Axes>"
      ]
     },
     "metadata": {
      "needs_background": "light"
     },
     "output_type": "display_data"
    }
   ],
   "source": [
    "fig, axes = plt.subplots(2, 1,figsize=(7, 8))\n",
    "ax1=axes[0]\n",
    "ax1.hist(lam,bins=20,density=True)\n",
    "x=np.linspace(0,5000,100)\n",
    "\n",
    "ax1.plot(x,2*stats.norm.pdf(x,0,sigma),color='black',linestyle='--')\n",
    "arr_y_loc = 2*stats.norm.pdf(50,0,sigma)\n",
    "ax1.annotate('Prior',xy=(50,arr_y_loc),xytext=(100,10*arr_y_loc),arrowprops={'arrowstyle':'->'})\n",
    "ax1.set_xticks([0,lam_ub[0]])\n",
    "\n",
    "ax1.set_yticks([])\n",
    "ax1.set_title(r'$\\lambda$')\n",
    "\n",
    "ax_sm=plt.axes([0.5,0.6,0.35,0.2])\n",
    "x_sm=np.linspace(cinf_lam[0]-hpd_width,cinf_lam[1]+hpd_width,200)\n",
    "ax_sm.hist(lam,bins=20,density=True)\n",
    "ax_sm.plot(x_sm,2*stats.norm.pdf(x_sm,0,sigma),color='black',linestyle='--')\n",
    "ax_sm.annotate(s='', xy=(cinf_lam[0]-.2,0.2), xytext=(cinf_lam[1]+.2,0.2), arrowprops=dict(arrowstyle='<->'))\n",
    "ax_sm.plot([cinf_lam[0],cinf_lam[0]],[0,0.3],color='black',linestyle='-',linewidth=0.5)\n",
    "ax_sm.plot([cinf_lam[1],cinf_lam[1]],[0,0.3],color='black',linestyle='-',linewidth=0.5)\n",
    "\n",
    "ax_sm.set_xticks(np.round([cinf_lam[0],cinf_lam[1]],2))\n",
    "ax_sm.set_yticks([])\n",
    "ax_sm.set_title(r'$\\lambda$ HPD')\n",
    "\n",
    "\n",
    "ax2=axes[1]\n",
    "ax2.hist(y_sim.flatten(),density=True,bins=20,zorder=1)\n",
    "ax2.scatter(deaths,0.002*dta_cnt,color='black',marker='.',zorder=2)\n",
    "ax2.set_xticks([0,np.max(y_sim)])\n",
    "ax2.set_yticks([])\n",
    "\n",
    "ax2.set_title('No. of paseengers deaths')\n",
    "plt.show()"
   ]
  },
  {
   "cell_type": "markdown",
   "metadata": {},
   "source": [
    "## Using model for prediction\n",
    "In 1986, there were 546 passenger deaths. We will see how our model predict this number.\n",
    "In order to predict value in 1986 we just need to use the prior predictive distribution of y_sim."
   ]
  },
  {
   "cell_type": "code",
   "execution_count": 105,
   "metadata": {},
   "outputs": [
    {
     "name": "stdout",
     "output_type": "stream",
     "text": [
      "Median of predicted passengers deaths = 691.0\n",
      "Confidence interval = [ 639.0 746.0 ]\n"
     ]
    }
   ],
   "source": [
    "median_y_sim = np.median(y_sim.flatten())\n",
    "cinf_y_sim = az.hpd(y_sim.flatten(),0.95)\n",
    "\n",
    "print('Median of predicted passengers deaths =',median_y_sim)\n",
    "print('Confidence interval = [',*cinf_y_sim,']')"
   ]
  },
  {
   "cell_type": "markdown",
   "metadata": {},
   "source": [
    "As we can see, number of predicted deaths is quite near the historical value, so our model is properly constructed."
   ]
  },
  {
   "cell_type": "markdown",
   "metadata": {},
   "source": [
    "## Task2. Constant intensity, but rate is a product of intensity and miles flown."
   ]
  },
  {
   "cell_type": "markdown",
   "metadata": {},
   "source": [
    "In Poisson model we decompose rate $\\lambda$ into intensity $\\theta$ and exposure $n$, i.e.\n",
    "\n",
    "$$y_i\\sim\\mathrm{Poisson}(\\theta n)$$\n",
    "With $n$ being a number miles flown (in 100 mil) .\n",
    "\n",
    "## Prior for passengers deaths intensity.\n",
    "We still assume that having 10 deaths every day would be very improbable. Our previous argument, can be still valid, however in order to compute the bound we will use $\\lambda=\\theta\\cdot\\bar{n}$, with $\\bar{n}$ being mean of miles flown. This gives us condition\n",
    "\n",
    "$$\\theta\\cdot\\bar{n}+3\\sqrt{\\theta\\cdot\\bar{n}}\\approx3650$$\n",
    "We need to assign the prior for $\\theta$ that would have probability of smaller $\\lambda$ equal 99%."
   ]
  },
  {
   "cell_type": "code",
   "execution_count": 108,
   "metadata": {},
   "outputs": [
    {
     "name": "stdout",
     "output_type": "stream",
     "text": [
      "theta upper bound 0.608\n"
     ]
    }
   ],
   "source": [
    "mean_miles=np.mean(data_air['Miles flown [100 mln miles]'])\n",
    "root_of_theta=np.polynomial.polynomial.polyroots([-3650/mean_miles,3./np.sqrt(mean_miles),1.])\n",
    "theta_ub=(root_of_theta[root_of_lam>0]**2)\n",
    "print('theta upper bound','{:4.3f}'.format(theta_ub[0]))"
   ]
  },
  {
   "cell_type": "code",
   "execution_count": 111,
   "metadata": {},
   "outputs": [
    {
     "name": "stdout",
     "output_type": "stream",
     "text": [
      "sigma = 0.236\n"
     ]
    }
   ],
   "source": [
    "data=dict(y_guess=np.array([np.log(0.1)]),theta=np.array(theta_ub))\n",
    "tuned2 = m_prior.sampling(data=data,\n",
    "                          seed=1052020,\n",
    "                          algorithm=\"Fixed_param\",\n",
    "                          iter=1, \n",
    "                          warmup=0,\n",
    "                          chains=1)\n",
    "sigma = (tuned2.extract()['sigma'][0])\n",
    "print('sigma =','{:4.3f}'.format(sigma))"
   ]
  },
  {
   "cell_type": "code",
   "execution_count": 116,
   "metadata": {},
   "outputs": [
    {
     "data": {
      "image/png": "[encoded data removed]",
      "text/plain": [
       "<Figure size 504x288 with 1 Axes>"
      ]
     },
     "metadata": {
      "needs_background": "light"
     },
     "output_type": "display_data"
    }
   ],
   "source": [
    "fig, ax2 = plt.subplots(1, 1,figsize=(7, 4))\n",
    "x2=np.linspace(0,3*sigma,1000)\n",
    "x4=np.linspace(0,theta_ub[0],1000)\n",
    "ax2.plot(x2,2*stats.norm.pdf(x2,scale=sigma),linewidth=2)\n",
    "ax2.fill_between(x4,2*stats.norm.pdf(x4,scale=sigma),0)\n",
    "ax2.set_yticks([])\n",
    "ax2.set_xticks([0,theta_ub[0]])\n",
    "ax2.set_title(r'$\\theta$')\n",
    "plt.show()"
   ]
  },
  {
   "cell_type": "markdown",
   "metadata": {},
   "source": [
    "## Prior predictive distribution\n",
    "We can use stan to simulate possible outputs and parameteres based only on prior information."
   ]
  },
  {
   "cell_type": "code",
   "execution_count": 117,
   "metadata": {},
   "outputs": [
    {
     "name": "stdout",
     "output_type": "stream",
     "text": [
      "data {\n",
      "  int M;//number of years analyzed\n",
      "  vector[M] miles; //number of miles flown each year\n",
      "}\n",
      "\n",
      "\n",
      "generated quantities {\n",
      "  real theta=fabs(normal_rng(0,0.236));\n",
      "  int y_sim[M];\n",
      "  for (k in 1:M) {\n",
      "    y_sim[k] = poisson_rng(theta*miles[k]);\n",
      "  }\n",
      "}\n"
     ]
    }
   ],
   "source": [
    "with open('prior_miles.stan', 'r') as file:\n",
    "    print(file.read())"
   ]
  },
  {
   "cell_type": "code",
   "execution_count": 118,
   "metadata": {},
   "outputs": [
    {
     "name": "stderr",
     "output_type": "stream",
     "text": [
      "INFO:pystan:COMPILING THE C++ CODE FOR MODEL anon_model_a0521f023350c8d175627319c1d89ec7 NOW.\n"
     ]
    }
   ],
   "source": [
    "model_prior=stan_utility.compile_model('prior_miles.stan')"
   ]
  },
  {
   "cell_type": "code",
   "execution_count": 119,
   "metadata": {},
   "outputs": [],
   "source": [
    "R=1000\n",
    "data_prior=dict(M=len(data_air),miles=data_air['Miles flown [100 mln miles]'].to_numpy())\n",
    "sim_uf=model_prior.sampling(data=data_prior,algorithm=\"Fixed_param\", iter=R, warmup=0, chains=1, refresh=R,seed=29042020)"
   ]
  },
  {
   "cell_type": "code",
   "execution_count": 121,
   "metadata": {},
   "outputs": [
    {
     "data": {
      "image/png": "[encoded data removed]",
      "text/plain": [
       "<Figure size 504x288 with 1 Axes>"
      ]
     },
     "metadata": {
      "needs_background": "light"
     },
     "output_type": "display_data"
    }
   ],
   "source": [
    "params=sim_uf.extract()\n",
    "theta=params['theta']\n",
    "\n",
    "fig, axes = plt.subplots(1, 1,figsize=(7, 4))\n",
    "ax1=axes\n",
    "ax1.hist(theta,bins=20,density=True)\n",
    "x=np.linspace(0,1.2*theta_ub[0],2000)\n",
    "ax1.set_xticks([0,theta_ub[0]])\n",
    "ax1.set_xticklabels([0,np.round(theta_ub[0],3)])\n",
    "ax1.set_yticks([])\n",
    "ax1.set_title(r'$\\theta$')\n",
    "ax1.plot(x,2*stats.norm.pdf(x,0,sigma),color='black',linestyle='--')\n",
    "arr_y_loc = 2*stats.norm.pdf(0.025,0,sigma)\n",
    "ax1.annotate('HalfNormal(0,'+'{:4.3f}'.format(sigma)+')',xy=(0.025,arr_y_loc),xytext=(0.04,1.5*arr_y_loc),arrowprops={'arrowstyle':'->'})\n",
    "plt.show()"
   ]
  },
  {
   "cell_type": "code",
   "execution_count": 134,
   "metadata": {},
   "outputs": [
    {
     "data": {
      "image/png": "[encoded data removed]",
      "text/plain": [
       "<Figure size 504x576 with 10 Axes>"
      ]
     },
     "metadata": {
      "needs_background": "light"
     },
     "output_type": "display_data"
    }
   ],
   "source": [
    "y_sim=params['y_sim']\n",
    "fig, axes = plt.subplots(5, 2, figsize=(7, 8), sharey=True,squeeze=False)\n",
    "axes_flat=axes.flatten()\n",
    "for k in range(len(axes_flat)):\n",
    "    ax = axes_flat[k]\n",
    "    ax.hist(y_sim[:,k],bins=20,density=True)\n",
    "    ax.set_title(data_air['Year'][k])\n",
    "    tv=data_air['Passenger deaths'].iloc[k]\n",
    "    ax.plot([tv,tv],[0,0.0009],linestyle='--',color='black')\n",
    "    ax.set_yticks([])\n",
    "    ax.set_xticks([0,tv,3650])\n",
    "    ax.set_xticklabels(['',tv,3650])\n",
    "\n",
    "fig.tight_layout()\n",
    "\n",
    "plt.show()"
   ]
  },
  {
   "cell_type": "markdown",
   "metadata": {},
   "source": [
    "## Posterior inference and posterior predictive checks"
   ]
  },
  {
   "cell_type": "code",
   "execution_count": 135,
   "metadata": {},
   "outputs": [
    {
     "name": "stdout",
     "output_type": "stream",
     "text": [
      "data {\n",
      "  int M;//number of years analyzed\n",
      "  vector[M] miles; //number of miles flown each year\n",
      "  int y[M];//number of passengers deaths\n",
      "}\n",
      "parameters {\n",
      "  real<lower=0>theta;\n",
      "}\n",
      "model {\n",
      "  theta ~ normal(0,0.021);\n",
      "  for (k in 1:M) {\n",
      "    y[k] ~ poisson(miles[k]*theta);\n",
      "  }\n",
      "}\n",
      "generated quantities {\n",
      "  int y_sim[M];\n",
      "  for (k in 1:M) {\n",
      "    y_sim[k] = poisson_rng(miles[k]*theta);\n",
      "  }\n",
      "}\n"
     ]
    }
   ],
   "source": [
    "with open('post_miles.stan', 'r') as file:\n",
    "    print(file.read())"
   ]
  },
  {
   "cell_type": "code",
   "execution_count": 136,
   "metadata": {},
   "outputs": [
    {
     "name": "stderr",
     "output_type": "stream",
     "text": [
      "INFO:pystan:COMPILING THE C++ CODE FOR MODEL anon_model_79053f8b4c03ba71494d47929647c0e3 NOW.\n"
     ]
    }
   ],
   "source": [
    "model_miles=stan_utility.compile_model('post_miles.stan')"
   ]
  },
  {
   "cell_type": "code",
   "execution_count": 139,
   "metadata": {},
   "outputs": [],
   "source": [
    "data = dict(M = len(data_air),\n",
    "            miles = data_air['Miles flown [100 mln miles]'],\n",
    "            y = data_air['Passenger deaths'])\n",
    "fit = model_miles.sampling(data=data, seed=8052020)\n",
    "\n",
    "params_miles=fit.extract()\n",
    "theta=params_miles['theta']\n",
    "y_sim=params_miles['y_sim']"
   ]
  },
  {
   "cell_type": "code",
   "execution_count": 142,
   "metadata": {},
   "outputs": [],
   "source": [
    "mean_theta = np.mean(theta)\n",
    "cinf_theta = az.hpd(theta,0.95)\n",
    "hpd_width=cinf_theta[1]-cinf_theta[0]"
   ]
  },
  {
   "cell_type": "code",
   "execution_count": 143,
   "metadata": {},
   "outputs": [
    {
     "name": "stdout",
     "output_type": "stream",
     "text": [
      "Mean theta : 0.1205\n",
      "95% confidence interval: [ 0.1178 0.1233 ]\n"
     ]
    }
   ],
   "source": [
    "print('Mean theta : {:5.4f}'.format(mean_theta))\n",
    "print('95% confidence interval: [',*['{:5.4f}'.format(k) for k in cinf_theta],']')"
   ]
  },
  {
   "cell_type": "code",
   "execution_count": 149,
   "metadata": {},
   "outputs": [
    {
     "data": {
      "image/png": "[encoded data removed]",
      "text/plain": [
       "<Figure size 504x288 with 2 Axes>"
      ]
     },
     "metadata": {
      "needs_background": "light"
     },
     "output_type": "display_data"
    }
   ],
   "source": [
    "fig, axes = plt.subplots(1, 1,figsize=(7, 4))\n",
    "ax1=axes\n",
    "ax1.hist(theta,bins=20,density=True)\n",
    "x=np.linspace(0,1.2*theta_ub[0],5000)\n",
    "ax1.set_xticks([0,theta_ub[0]])\n",
    "ax1.set_xticklabels([0,np.round(theta_ub[0],3)])\n",
    "ax1.set_yticks([])\n",
    "ax1.set_title(r'$\\theta$')\n",
    "ax1.plot(x,2*stats.norm.pdf(x,0,sigma),color='black',linestyle='--')\n",
    "arr_y_loc = 2*stats.norm.pdf(0.001,0,sigma)\n",
    "ax1.annotate('Prior',xy=(0.001,arr_y_loc),xytext=(0.0015,10*arr_y_loc),arrowprops={'arrowstyle':'->'})\n",
    "\n",
    "ax_sm=plt.axes([0.5,0.3,0.35,0.4])\n",
    "x_sm=np.linspace(cinf_theta[0]-hpd_width,cinf_theta[1]+hpd_width,200)\n",
    "ax_sm.hist(theta,bins=20,density=True)\n",
    "ax_sm.plot(x_sm,2*stats.norm.pdf(x_sm,0,sigma),color='black',linestyle='--')\n",
    "ax_sm.annotate(s='', xy=(0.99*cinf_theta[0],1000), xytext=(1.01*cinf_theta[1],1000), arrowprops=dict(arrowstyle='<->'))\n",
    "ax_sm.plot([cinf_theta[0],cinf_theta[0]],[0,1600],color='black',linestyle='-',linewidth=0.5)\n",
    "ax_sm.plot([cinf_theta[1],cinf_theta[1]],[0,1600],color='black',linestyle='-',linewidth=0.5)\n",
    "\n",
    "ax_sm.set_xticks(([cinf_theta[0],cinf_theta[1]]))\n",
    "ax_sm.set_xticklabels(np.round([cinf_theta[0],cinf_theta[1]],4))\n",
    "\n",
    "ax_sm.set_yticks([])\n",
    "ax_sm.set_title(r'$\\theta$ HPD')\n",
    "\n",
    "plt.show()"
   ]
  },
  {
   "cell_type": "code",
   "execution_count": 162,
   "metadata": {},
   "outputs": [
    {
     "data": {
      "image/png": "[encoded data removed]",
      "text/plain": [
       "<Figure size 504x576 with 10 Axes>"
      ]
     },
     "metadata": {
      "needs_background": "light"
     },
     "output_type": "display_data"
    }
   ],
   "source": [
    "y_sim=params_miles['y_sim']\n",
    "fig, axes = plt.subplots(5, 2, figsize=(7, 8), sharey=True,squeeze=False)\n",
    "axes_flat=axes.flatten()\n",
    "for k in range(len(axes_flat)):\n",
    "    ax = axes_flat[k]\n",
    "    ax.hist(y_sim[:,k],bins=20,density=True)\n",
    "    ax.set_title(data_air['Year'][k])\n",
    "    tv=data_air['Passenger deaths'].iloc[k]\n",
    "    ax.plot([tv,tv],[0,0.02],linestyle='--',color='black')\n",
    "    ax.set_yticks([])\n",
    "\n",
    "fig.tight_layout()\n",
    "\n",
    "plt.show()"
   ]
  },
  {
   "cell_type": "markdown",
   "metadata": {},
   "source": [
    "## Using model for prediction\n",
    "In this situation prediction might be a slight more complicated, as it requires from us modifying the generated quantities block. In 1986, there were 546 passenger deaths, and a death rate of 0.06 per 100 million miles flown."
   ]
  },
  {
   "cell_type": "code",
   "execution_count": 163,
   "metadata": {},
   "outputs": [
    {
     "name": "stdout",
     "output_type": "stream",
     "text": [
      "9100.0\n"
     ]
    }
   ],
   "source": [
    "miles1986=546/0.06\n",
    "print(np.round(miles1986))"
   ]
  },
  {
   "cell_type": "code",
   "execution_count": 164,
   "metadata": {},
   "outputs": [
    {
     "name": "stdout",
     "output_type": "stream",
     "text": [
      "data {\n",
      "  int M;//number of years analyzed\n",
      "  vector[M] miles; //number of miles flown each year\n",
      "  int y[M];//number of passengers deaths\n",
      "}\n",
      "parameters {\n",
      "  real<lower=0>theta;\n",
      "}\n",
      "model {\n",
      "  theta ~ normal(0,0.236);\n",
      "  for (k in 1:M) {\n",
      "    y[k] ~ poisson(miles[k]*theta);\n",
      "  }\n",
      "}\n",
      "generated quantities {\n",
      "  int y_1986 = poisson_rng(9100*theta);\n",
      "}\n"
     ]
    }
   ],
   "source": [
    "with open('pred_miles.stan', 'r') as file:\n",
    "    print(file.read())"
   ]
  },
  {
   "cell_type": "code",
   "execution_count": 165,
   "metadata": {},
   "outputs": [
    {
     "name": "stderr",
     "output_type": "stream",
     "text": [
      "INFO:pystan:COMPILING THE C++ CODE FOR MODEL anon_model_b98255b0d449eee5005f6158e2f8c472 NOW.\n"
     ]
    }
   ],
   "source": [
    "model1986=stan_utility.compile_model('pred_miles.stan')"
   ]
  },
  {
   "cell_type": "code",
   "execution_count": 166,
   "metadata": {},
   "outputs": [],
   "source": [
    "data = dict(M = len(data_air),\n",
    "            miles = data_air['Miles flown [100 mln miles]'],\n",
    "            y = data_air['Passenger deaths'])\n",
    "fit1986 = model1986.sampling(data=data, seed=8052020)\n",
    "\n",
    "y_1986=fit1986.extract()['y_1986']"
   ]
  },
  {
   "cell_type": "code",
   "execution_count": 168,
   "metadata": {},
   "outputs": [
    {
     "name": "stdout",
     "output_type": "stream",
     "text": [
      "Median of predicted deaths = 1102.0\n",
      "Confidence interval = [ 1049.0 1158.0 ]\n"
     ]
    }
   ],
   "source": [
    "median_y_1986 = np.median(y_1986)\n",
    "cinf_y_1986 = az.hpd(y_1986,0.89)\n",
    "\n",
    "print('Median of predicted deaths =',median_y_1986)\n",
    "print('Confidence interval = [',*cinf_y_1986,']')"
   ]
  },
  {
   "cell_type": "code",
   "execution_count": 180,
   "metadata": {},
   "outputs": [
    {
     "data": {
      "image/png": "[encoded data removed]",
      "text/plain": [
       "<Figure size 504x288 with 1 Axes>"
      ]
     },
     "metadata": {
      "needs_background": "light"
     },
     "output_type": "display_data"
    }
   ],
   "source": [
    "y_sim=params['y_sim']\n",
    "fig, ax = plt.subplots(1, 1, figsize=(7, 4))\n",
    "ax.hist(y_1986,bins=20,density=True)\n",
    "ax.set_title('1986')\n",
    "tv = 546\n",
    "ax.plot([tv,tv],[0,0.01],linestyle='--',color='black')\n",
    "\n",
    "plt.show()"
   ]
  },
  {
   "cell_type": "markdown",
   "metadata": {},
   "source": [
    "As we can see prediction for passengers deaths regarding flown miles is not as accurate as the previous one, when deaths rate wasnt depending on anything. Predicted number of passengers deaths is about 2 times bigger than the historical one. "
   ]
  }
 ],
 "metadata": {
  "kernelspec": {
   "display_name": "Python 3",
   "language": "python",
   "name": "python3"
  },
  "language_info": {
   "codemirror_mode": {
    "name": "ipython",
    "version": 3
   },
   "file_extension": ".py",
   "mimetype": "text/x-python",
   "name": "python",
   "nbconvert_exporter": "python",
   "pygments_lexer": "ipython3",
   "version": "3.7.4"
  }
 },
 "nbformat": 4,
 "nbformat_minor": 2
}
